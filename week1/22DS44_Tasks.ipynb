{
  "nbformat": 4,
  "nbformat_minor": 0,
  "metadata": {
    "colab": {
      "name": "22DS44_Tasks.ipynb",
      "provenance": []
    },
    "kernelspec": {
      "name": "python3",
      "display_name": "Python 3"
    },
    "language_info": {
      "name": "python"
    }
  },
  "cells": [
    {
      "cell_type": "markdown",
      "source": [
        "#Problem Sets"
      ],
      "metadata": {
        "id": "gPNkvL-Qy_3P"
      }
    },
    {
      "cell_type": "markdown",
      "source": [
        "1001"
      ],
      "metadata": {
        "id": "CAAghT2A3GGl"
      }
    },
    {
      "cell_type": "code",
      "source": [
        "print(\"Hello World!\")"
      ],
      "metadata": {
        "colab": {
          "base_uri": "https://localhost:8080/"
        },
        "id": "DfH5m_If3IQQ",
        "outputId": "26347100-262f-4fa9-8e94-9267966825d1"
      },
      "execution_count": null,
      "outputs": [
        {
          "output_type": "stream",
          "name": "stdout",
          "text": [
            "Hello World!\n"
          ]
        }
      ]
    },
    {
      "cell_type": "markdown",
      "source": [
        "**1002**"
      ],
      "metadata": {
        "id": "su8VyHuW3Jeb"
      }
    },
    {
      "cell_type": "code",
      "source": [
        "num1=int(input())\n",
        "num2=int(input())\n",
        "x=num1+num2\n",
        "print (f\"X = {x}\")"
      ],
      "metadata": {
        "id": "SvDudWnp3Vaj",
        "colab": {
          "base_uri": "https://localhost:8080/"
        },
        "outputId": "439b9622-1ad2-49c1-b2b1-2fe807174e28"
      },
      "execution_count": null,
      "outputs": [
        {
          "output_type": "stream",
          "name": "stdout",
          "text": [
            "1\n",
            "2\n",
            "X = 3\n"
          ]
        }
      ]
    },
    {
      "cell_type": "markdown",
      "source": [
        "1003"
      ],
      "metadata": {
        "id": "f3EhhRsF96V4"
      }
    },
    {
      "cell_type": "code",
      "source": [
        "r=float(input())\n",
        "n=3.14159\n",
        "a=round(n*(r**2), 4)\n",
        "print(f\"A={a}\")"
      ],
      "metadata": {
        "colab": {
          "base_uri": "https://localhost:8080/"
        },
        "id": "2BCwyXLk967D",
        "outputId": "3da28f04-0588-481a-8993-e7d99e37dbbc"
      },
      "execution_count": null,
      "outputs": [
        {
          "output_type": "stream",
          "name": "stdout",
          "text": [
            "2.00\n",
            "A=12.5664\n"
          ]
        }
      ]
    },
    {
      "cell_type": "markdown",
      "source": [
        "1003"
      ],
      "metadata": {
        "id": "CErhI9WqBLtX"
      }
    },
    {
      "cell_type": "code",
      "source": [
        "n1=int(input())\n",
        "n2=int(input())\n",
        "sum=n1+n2\n",
        "print(f\"SOMA = {sum}\")"
      ],
      "metadata": {
        "colab": {
          "base_uri": "https://localhost:8080/"
        },
        "id": "1_8qPJj_BNdT",
        "outputId": "1bd17135-b2f8-4345-c1af-f2a0a1d55d69"
      },
      "execution_count": null,
      "outputs": [
        {
          "output_type": "stream",
          "name": "stdout",
          "text": [
            "1\n",
            "3\n",
            "SOMA = 4\n"
          ]
        }
      ]
    },
    {
      "cell_type": "markdown",
      "source": [
        "1004"
      ],
      "metadata": {
        "id": "yve7QhPJBQ2d"
      }
    },
    {
      "cell_type": "code",
      "source": [
        "n1=int(input())\n",
        "n2=int(input())\n",
        "prod=n1*n2\n",
        "print(f\"PROD = {prod}\")"
      ],
      "metadata": {
        "id": "5svZgzd1BRJD"
      },
      "execution_count": null,
      "outputs": []
    },
    {
      "cell_type": "markdown",
      "source": [
        "1005"
      ],
      "metadata": {
        "id": "cCR7DWNeCP82"
      }
    },
    {
      "cell_type": "code",
      "source": [
        "n1=float(input())\n",
        "n2=float(input())\n",
        "avg=round((((n1*3.5)+(n2*7.5))/(3.5+7.5)),5)\n",
        "\n",
        "print(f\"MEDIA = {avg}\")"
      ],
      "metadata": {
        "colab": {
          "base_uri": "https://localhost:8080/"
        },
        "id": "9U1oJZ_2CQGf",
        "outputId": "72a22093-2562-46c0-9c17-88354558b4be"
      },
      "execution_count": null,
      "outputs": [
        {
          "output_type": "stream",
          "name": "stdout",
          "text": [
            "5.0\n",
            "7.1\n",
            "MEDIA = 6.43182\n"
          ]
        }
      ]
    },
    {
      "cell_type": "markdown",
      "source": [
        "1006"
      ],
      "metadata": {
        "id": "YM3Sd_PyIQhk"
      }
    },
    {
      "cell_type": "code",
      "source": [
        "n1=float(input())\n",
        "n2=float(input())\n",
        "n3=float(input())\n",
        "avg=(((n1*2)+(n2*3)+(n3*5))/10)\n",
        "print(f\"MEDIA = {avg: .1f}\")"
      ],
      "metadata": {
        "colab": {
          "base_uri": "https://localhost:8080/"
        },
        "id": "z1va949vIQ-m",
        "outputId": "33988661-3ddb-4a28-ceb6-a68810b00677"
      },
      "execution_count": null,
      "outputs": [
        {
          "output_type": "stream",
          "name": "stdout",
          "text": [
            "5.0\n",
            "6.0\n",
            "7.0\n",
            "MEDIA = 6.3\n"
          ]
        }
      ]
    },
    {
      "cell_type": "markdown",
      "source": [
        "1007"
      ],
      "metadata": {
        "id": "3RBakOVUKDpx"
      }
    },
    {
      "cell_type": "code",
      "source": [
        "n1=int(input())\n",
        "n2=int(input())\n",
        "n3=int(input())\n",
        "n4=int(input())\n",
        "difference=(n1*n2)-(n3*n4)\n",
        "print(f\"DIFERENCA = {difference}\")"
      ],
      "metadata": {
        "id": "qk9HaYyPKD_0"
      },
      "execution_count": null,
      "outputs": []
    },
    {
      "cell_type": "markdown",
      "source": [
        "1008"
      ],
      "metadata": {
        "id": "tbHvcOBcK95L"
      }
    },
    {
      "cell_type": "code",
      "source": [
        "number=int(input())\n",
        "worked_hours=int(input())\n",
        "hourly_payment=float(input())\n",
        "salary=worked_hours*hourly_payment\n",
        "print(f'NUMBER = {number}')\n",
        "print(f'SALARY = U$ {salary:.2f}')"
      ],
      "metadata": {
        "colab": {
          "base_uri": "https://localhost:8080/"
        },
        "id": "lc9YSxhLK-EO",
        "outputId": "f41d2481-b72b-4677-c713-7b13cb8751b7"
      },
      "execution_count": null,
      "outputs": [
        {
          "output_type": "stream",
          "name": "stdout",
          "text": [
            "25\n",
            "100\n",
            "5.50\n",
            "NUMBER = 25\n",
            "SALARY = U$ 550.00\n"
          ]
        }
      ]
    },
    {
      "cell_type": "markdown",
      "source": [
        "1009"
      ],
      "metadata": {
        "id": "iEBvMywaSjSo"
      }
    },
    {
      "cell_type": "code",
      "source": [
        "emp_firstname=input()\n",
        "salary=float(input())\n",
        "total_sale_sold=float(input())\n",
        "total=(salary+(total_sale_sold*15/100))\n",
        "print(f'TOTAL = R$ {total:.2f}')"
      ],
      "metadata": {
        "id": "SzjhvUlwSjm0"
      },
      "execution_count": null,
      "outputs": []
    },
    {
      "cell_type": "markdown",
      "source": [
        "1010"
      ],
      "metadata": {
        "id": "AypQXydOSrgc"
      }
    },
    {
      "cell_type": "code",
      "source": [
        "code1,unit1,value1=input().split(\" \")\n",
        "code2,unit2,value2=input().split(\" \")\n",
        "total=(int(unit1)*float(value1))+(int(unit2)*float(value2))\n",
        "print(f'VALOR A PAGAR: R$ {total:.2f}')"
      ],
      "metadata": {
        "colab": {
          "base_uri": "https://localhost:8080/"
        },
        "id": "qeJm6B68Srm_",
        "outputId": "6e86a230-8a71-4679-e112-ea1c7d4bc765"
      },
      "execution_count": 9,
      "outputs": [
        {
          "output_type": "stream",
          "name": "stdout",
          "text": [
            "1 2 3\n",
            "2 4 6\n",
            "VALOR A PAGAR: R$ 30.00\n"
          ]
        }
      ]
    },
    {
      "cell_type": "markdown",
      "source": [
        "1011"
      ],
      "metadata": {
        "id": "0LzuRTP5Vuzj"
      }
    },
    {
      "cell_type": "code",
      "source": [
        "r=float(input())\n",
        "pi=3.14159\n",
        "sphere_volume=(4/3.0)*pi*(r*r*r)\n",
        "print(f'VOLUME = {sphere_volume:.3f}')"
      ],
      "metadata": {
        "colab": {
          "base_uri": "https://localhost:8080/"
        },
        "id": "8gg4akzvVu93",
        "outputId": "5178de9e-e84e-4776-aced-f49599798cbd"
      },
      "execution_count": 2,
      "outputs": [
        {
          "output_type": "stream",
          "name": "stdout",
          "text": [
            "3\n",
            "VOLUME = 113.097\n"
          ]
        }
      ]
    },
    {
      "cell_type": "markdown",
      "source": [
        "1012"
      ],
      "metadata": {
        "id": "Uhj0EXMka17b"
      }
    },
    {
      "cell_type": "code",
      "source": [
        "x=input().split(\" \")\n",
        "a=x[0]\n",
        "b=x[1]\n",
        "c=x[2]\n",
        "pi=3.14159\n",
        "triangle=(1/2)*float(a)*float(c)\n",
        "circle=pi*float(c)*float(c)\n",
        "trapezium=((float(a)+float(b))/2)*float(c)\n",
        "square=float(b)*float(b)\n",
        "rectangle=float(a)*float(b)\n",
        "\n",
        "print(f'TRIANGULO: {triangle:.3f}')\n",
        "print(f'CIRCULO: {circle:.3f}')\n",
        "print(f'TRAPEZIO: {trapezium:.3f}')\n",
        "print(f'QUADRADO: {square:.3f}')\n",
        "print(f'RECTANGULO: {rectangle:.3f}')"
      ],
      "metadata": {
        "colab": {
          "base_uri": "https://localhost:8080/"
        },
        "id": "twuaJj6ka3vA",
        "outputId": "0187d8db-d675-4d12-c44a-090847c9fe2f"
      },
      "execution_count": 8,
      "outputs": [
        {
          "output_type": "stream",
          "name": "stdout",
          "text": [
            "3.0 4.0 5.2\n",
            "TRIANGULO: 7.800\n",
            "CIRCULO: 84.949\n",
            "TRAPEZIO: 18.200\n",
            "QUADRADO: 16.000\n",
            "RECTANGULO: 12.000\n"
          ]
        }
      ]
    },
    {
      "cell_type": "markdown",
      "source": [
        "1013"
      ],
      "metadata": {
        "id": "_4ctvLjJbgax"
      }
    },
    {
      "cell_type": "code",
      "source": [
        "import math\n",
        "a,b,c=input().split(\" \")\n",
        "maiorab=(int(a)+int(b)+abs(int(a)-int(b)))/2\n",
        "greatest=(int(maiorab)+int(c)+abs(int(maiorab)-int(c)))/2\n",
        "print(f'{greatest} eh o maior')"
      ],
      "metadata": {
        "id": "sMEaQQ-CbiOH"
      },
      "execution_count": null,
      "outputs": []
    },
    {
      "cell_type": "markdown",
      "source": [
        "1014"
      ],
      "metadata": {
        "id": "TPWLDddzkd2B"
      }
    },
    {
      "cell_type": "code",
      "source": [
        "total_distance=int(input())\n",
        "fuel_spent=float(input())\n",
        "\n",
        "avg_consumption=total_distance/fuel_spent\n",
        "\n",
        "print(f'{avg_consumption:.3f} km/l')"
      ],
      "metadata": {
        "id": "Smj8hJkqkeMz"
      },
      "execution_count": null,
      "outputs": []
    },
    {
      "cell_type": "markdown",
      "source": [
        "1015"
      ],
      "metadata": {
        "id": "CFfHrlab5GxW"
      }
    },
    {
      "cell_type": "code",
      "source": [
        "import math\n",
        "\n",
        "x1,y1=input().split(\" \")\n",
        "x2,y2=input().split(\" \")\n",
        "distance=math.sqrt(((float(x2)-float(x1))**2)+((float(y2)-float(y1))**2))\n",
        "print(f\"{distance:.4f}\")"
      ],
      "metadata": {
        "id": "pNE1PUDe5HNd"
      },
      "execution_count": null,
      "outputs": []
    },
    {
      "cell_type": "markdown",
      "source": [
        "1016"
      ],
      "metadata": {
        "id": "sHQU66xS5Hkm"
      }
    },
    {
      "cell_type": "code",
      "source": [
        "distance=int(input())\n",
        "minutes=(distance*2)\n",
        "print(f'{minutes} minutos')"
      ],
      "metadata": {
        "id": "SbnatM3B5H3m"
      },
      "execution_count": null,
      "outputs": []
    },
    {
      "cell_type": "markdown",
      "source": [
        "1017"
      ],
      "metadata": {
        "id": "n07eid5X5IJ3"
      }
    },
    {
      "cell_type": "code",
      "source": [
        "spent_time=int(input())\n",
        "avg_speed=int(input())\n",
        "total_distance=spent_time*avg_speed\n",
        "fuel_consumption=total_distance/12\n",
        "print(f'{fuel_consumption:.3f}')"
      ],
      "metadata": {
        "id": "UVc4bunX5IgH"
      },
      "execution_count": null,
      "outputs": []
    },
    {
      "cell_type": "markdown",
      "source": [
        "1018"
      ],
      "metadata": {
        "id": "okvWb_YG5JM-"
      }
    },
    {
      "cell_type": "code",
      "source": [
        "n=int(input())\n",
        "hundred=int(n/100)\n",
        "fifty=int((n-hundred*100)/50)\n",
        "twenty=int((n-((hundred*100)+(fifty*50)))/20)\n",
        "ten=int((n-((hundred*100)+(fifty*50)+(twenty*20)))/10)\n",
        "five=int(((n-((hundred*100)+(fifty*50)+(twenty*20)+(ten*10))))/5)\n",
        "two=int(((n-((hundred*100)+(fifty*50)+(twenty*20)+(ten*10)+(five*5))))/2)\n",
        "one=int(((n-((hundred*100)+(fifty*50)+(twenty*20)+(ten*10)+(five*5)+(two*2))))/1)\n",
        "print(n)\n",
        "print(f'{hundred} nota(s) de R$ 100,00')\n",
        "print(f'{fifty} nota(s) de R$ 50,00')\n",
        "print(f'{twenty} nota(s) de R$ 20,00')\n",
        "print(f'{ten} nota(s) de R$ 10,00')\n",
        "print(f'{five} nota(s) de R$ 5,00')\n",
        "print(f'{two} nota(s) de R$ 2,00')\n",
        "print(f'{one} nota(s) de R$ 1,00')"
      ],
      "metadata": {
        "id": "YKR4BbAS5JY1"
      },
      "execution_count": null,
      "outputs": []
    },
    {
      "cell_type": "markdown",
      "source": [
        "1019"
      ],
      "metadata": {
        "id": "6SDh--uh5JmI"
      }
    },
    {
      "cell_type": "code",
      "source": [
        "n=int(input())\n",
        "minutes=int(n/60)\n",
        "hours=int(minutes/60)\n",
        "actual_minutes=int(minutes-(hours*60))\n",
        "seconds=n-(minutes*60)\n",
        "print(f'{hours}:{actual_minutes}:{seconds}')"
      ],
      "metadata": {
        "colab": {
          "base_uri": "https://localhost:8080/"
        },
        "id": "3HbojTPh5JyN",
        "outputId": "15225a71-1eca-4e0d-e133-d999c8c89ef7"
      },
      "execution_count": 24,
      "outputs": [
        {
          "output_type": "stream",
          "name": "stdout",
          "text": [
            "556\n",
            "0:9:16\n"
          ]
        }
      ]
    },
    {
      "cell_type": "markdown",
      "source": [
        "1020"
      ],
      "metadata": {
        "id": "CpPtmwQL5KDg"
      }
    },
    {
      "cell_type": "code",
      "source": [
        "n=int(input())\n",
        "year=int(n/365)\n",
        "month=int((n-(year*365))/30)\n",
        "days=n-((year*365)+(month*30))\n",
        "print(f'{year} ano(s)')\n",
        "print(f'{month} mes(es)')\n",
        "print(f'{days} dia(s)')"
      ],
      "metadata": {
        "colab": {
          "base_uri": "https://localhost:8080/"
        },
        "id": "s2skMboR5KRM",
        "outputId": "c0c92bca-61ce-476b-8a4c-54ca419b86f5"
      },
      "execution_count": 25,
      "outputs": [
        {
          "output_type": "stream",
          "name": "stdout",
          "text": [
            "400\n",
            "1 ano(s)\n",
            "1 mes(es)\n",
            "5 dia(s)\n"
          ]
        }
      ]
    },
    {
      "cell_type": "markdown",
      "source": [
        "1021"
      ],
      "metadata": {
        "id": "138tulfd5Key"
      }
    },
    {
      "cell_type": "code",
      "source": [
        "n=float(input())\n",
        "\n",
        "hundred=int(n/100)\n",
        "fifty=int((n-hundred*100)/50)\n",
        "twenty=int((n-((hundred*100)+(fifty*50)))/20)\n",
        "ten=int((n-((hundred*100)+(fifty*50)+(twenty*20)))/10)\n",
        "five=int(((n-((hundred*100)+(fifty*50)+(twenty*20)+(ten*10))))/5)\n",
        "two=int(((n-((hundred*100)+(fifty*50)+(twenty*20)+(ten*10)+(five*5))))/2)\n",
        "one=int(((n-((hundred*100)+(fifty*50)+(twenty*20)+(ten*10)+(five*5)+(two*2))))/1)\n",
        "fifty_paisa=int(((n-((hundred*100)+(fifty*50)+(twenty*20)+(ten*10)+(five*5)+(two*2)+(one*1))))/0.50)\n",
        "twentyfive_paisa=int(((n-((hundred*100)+(fifty*50)+(twenty*20)+(ten*10)+(five*5)+(two*2)+(one*1)+(fifty_paisa*0.50))))/0.25)\n",
        "ten_paisa=int(((n-((hundred*100)+(fifty*50)+(twenty*20)+(ten*10)+(five*5)+(two*2)+(one*1)+(fifty_paisa*0.50)+(twentyfive_paisa*0.25))))/0.10)\n",
        "five_paisa=int(((n-((hundred*100)+(fifty*50)+(twenty*20)+(ten*10)+(five*5)+(two*2)+(one*1)+(fifty_paisa*0.50)+(twentyfive_paisa*0.25)+(ten_paisa*0.10))))/0.05)\n",
        "one_paisa=int(((n-((hundred*100)+(fifty*50)+(twenty*20)+(ten*10)+(five*5)+(two*2)+(one*1)+(fifty_paisa*0.50)+(twentyfive_paisa*0.25)+(ten_paisa*0.10)+(five_paisa*0.05))))/0.01)\n",
        "\n",
        "print(\"NOTAS:\")\n",
        "print(f'{hundred} nota(s) de R$ 100.00')\n",
        "print(f'{fifty} nota(s) de R$ 50.00')\n",
        "print(f'{twenty} nota(s) de R$ 20.00')\n",
        "print(f'{ten} nota(s) de R$ 10.00')\n",
        "print(f'{five} nota(s) de R$ 5.00')\n",
        "print(f'{two} nota(s) de R$ 2.00')\n",
        "\n",
        "print(\"MOEDAS:\")\n",
        "print(f'{one} moeda(s) de R$ 1.00')\n",
        "print(f'{fifty_paisa} moeda(s) de R$ 0.50')\n",
        "print(f'{twentyfive_paisa} moeda(s) de R$ 0.25')\n",
        "print(f'{ten_paisa} moeda(s) de R$ 0.10')\n",
        "print(f'{five_paisa} moeda(s) de R$ 0.05')\n",
        "print(f'{one_paisa} moeda(s) de R$ 0.01')\n"
      ],
      "metadata": {
        "id": "MlPZoCsp5KsD"
      },
      "execution_count": null,
      "outputs": []
    },
    {
      "cell_type": "markdown",
      "source": [
        "1035"
      ],
      "metadata": {
        "id": "mklKXTaK5K5U"
      }
    },
    {
      "cell_type": "code",
      "source": [
        "a,b,c,d=input().split(\" \")\n",
        "a=int(a)\n",
        "b=int(b)\n",
        "c=int(c)\n",
        "d=int(d)\n",
        "\n",
        "if b>c and d>a:\n",
        "    if c+d>a+b:\n",
        "        if c>0 and d>0:\n",
        "            if a%2==0:\n",
        "                print(\"Valores aceitos\")\n",
        "else:\n",
        "    print(\"Valores nao aceitos\")\n",
        "    "
      ],
      "metadata": {
        "colab": {
          "base_uri": "https://localhost:8080/"
        },
        "id": "SW6vK_fR5LIq",
        "outputId": "2c8adf4b-efc7-45f8-80ed-c64282d9fd2b"
      },
      "execution_count": 37,
      "outputs": [
        {
          "output_type": "stream",
          "name": "stdout",
          "text": [
            "2 3 2 6\n",
            "Valores aceitos\n"
          ]
        }
      ]
    },
    {
      "cell_type": "markdown",
      "source": [
        "1036"
      ],
      "metadata": {
        "id": "XyQBiov25LUy"
      }
    },
    {
      "cell_type": "code",
      "source": [
        "import math\n",
        "a,b,c=input().split(\" \")\n",
        "a=float(a)\n",
        "b=float(b)\n",
        "c=float(c)\n",
        "d=(b**2)-(4*a*c)\n",
        "\n",
        "if a==0 or (b**2)<4*a*c:\n",
        "    print(\"Impossivel calcular\")\n",
        "else:\n",
        "    x1 =((-b+(math.sqrt(d)))/(2*a))\n",
        "    x2 =((-b-(math.sqrt(d)))/(2*a))\n",
        "    print(f'R1 = {x1:.5f}')\n",
        "    print(f'R2 = {x2:.5f}')\n"
      ],
      "metadata": {
        "id": "Wk3PkDRr5LhU"
      },
      "execution_count": null,
      "outputs": []
    },
    {
      "cell_type": "markdown",
      "source": [
        "1037"
      ],
      "metadata": {
        "id": "q0jmFSuC5LtM"
      }
    },
    {
      "cell_type": "code",
      "source": [
        "n=float(input())\n",
        "\n",
        "if n>=0 and n<=25:\n",
        "    print(\"Intervalo [0,25]\")\n",
        "elif n>25 and n<=50:\n",
        "    print(\"Intervalo (25,50]\")\n",
        "elif n>50 and n<=75:\n",
        "    print(\"Intervalo (50,75]\")\n",
        "elif n>75 and n<=100:\n",
        "    print(\"Intervalo (75,100]\")\n",
        "else:\n",
        "    print(\"Fora de intervalo\")"
      ],
      "metadata": {
        "id": "_6YV7eUJ5L4-"
      },
      "execution_count": null,
      "outputs": []
    },
    {
      "cell_type": "markdown",
      "source": [
        "1038"
      ],
      "metadata": {
        "id": "28AGWz4f1MkL"
      }
    },
    {
      "cell_type": "code",
      "source": [
        "x=int(input(\"product code: \"))\n",
        "y=int(input(\"product quantity: \"))\n",
        "\n",
        "product_price={1:4.00,2:4.50,3:5.00,4:2.00,5:1.50}\n",
        "\n",
        "for k,v in product_price.items():\n",
        "  if k==x:\n",
        "    output=product_price[k]*y\n",
        "print(output)"
      ],
      "metadata": {
        "colab": {
          "base_uri": "https://localhost:8080/"
        },
        "id": "4gDl8UFPzOuG",
        "outputId": "89434654-7053-469d-bd17-bdda04bcdc25"
      },
      "execution_count": null,
      "outputs": [
        {
          "output_type": "stream",
          "name": "stdout",
          "text": [
            "product code: 1\n",
            "product quantity: 3\n",
            "12.0\n"
          ]
        }
      ]
    },
    {
      "cell_type": "markdown",
      "source": [
        "1040"
      ],
      "metadata": {
        "id": "ciG38lC65MD5"
      }
    },
    {
      "cell_type": "code",
      "source": [
        "n1,n2,n3,n4=input().split(\" \")\n",
        "n1=float(n1)\n",
        "n2=float(n2)\n",
        "n3=float(n3)\n",
        "n4=float(n4)\n",
        "\n",
        "media=((n1*2)+(n2*3)+(n3*4)+(n4*1))/10\n",
        "print(f'Media: {media:.1f}')\n",
        "\n",
        "if media>=7.0:\n",
        "    print(\"Aluno aprovado.\")\n",
        "elif media<5.0:\n",
        "    print(\"Aluno reprovado.\")\n",
        "elif media>=5.0 and media<7.0:\n",
        "    print(\"Aluno em exame.\")\n",
        "    score=float(input())\n",
        "    print(f'Nota do exame: {score:.1f}')\n",
        "    n=(media+score)/2\n",
        "\n",
        "    if n>=5.0:\n",
        "        print(\"Aluno aprovado.\")\n",
        "        print(f'Media final: {n:.1f}')\n",
        "    else:\n",
        "        print(\"Aluno reprovado.\")\n",
        "        print(f'Media final: {n:.1f}')"
      ],
      "metadata": {
        "id": "5IhNENzV5MPB"
      },
      "execution_count": null,
      "outputs": []
    },
    {
      "cell_type": "markdown",
      "source": [
        "1041"
      ],
      "metadata": {
        "id": "IYxhPpcZ5MZz"
      }
    },
    {
      "cell_type": "code",
      "source": [
        "x,y=input().split(\" \")\n",
        "x=float(x)\n",
        "y=float(y)\n",
        "\n",
        "if x==0.0 and y==0.0:\n",
        "    print(\"Origem\")\n",
        "elif y==0.0:\n",
        "    print(\"Eixo X\")\n",
        "elif x==0.0:\n",
        "    print(\"Eixo Y\")\n",
        "elif x>0.0 and y>0.0:\n",
        "    print(\"Q1\")\n",
        "elif x<0.0 and y>0.0:\n",
        "    print(\"Q2\")\n",
        "elif x>0.0 and y<0.0:\n",
        "    print(\"Q4\")\n",
        "elif x<0.0 and y<0.0:\n",
        "    print(\"Q3\")"
      ],
      "metadata": {
        "id": "oNXXwp7V5MlB"
      },
      "execution_count": null,
      "outputs": []
    },
    {
      "cell_type": "markdown",
      "source": [
        "1042"
      ],
      "metadata": {
        "id": "Mnjb5bPt5MxP"
      }
    },
    {
      "cell_type": "code",
      "source": [
        "list1=input().split()\n",
        "a=int(list1[0])\n",
        "b=int(list1[1])\n",
        "c=int(list1[2])\n",
        "list2=[a,b,c]\n",
        "list2.sort()\n",
        "print(f'{list2[0]}\\n{list2[1]}\\n{list2[2]}\\n')\n",
        "print(f'{a}\\n{b}\\n{c}')"
      ],
      "metadata": {
        "colab": {
          "base_uri": "https://localhost:8080/"
        },
        "id": "MqTcbi5R5M_M",
        "outputId": "1aebb024-29b4-4676-d12b-1d9ea38c04ec"
      },
      "execution_count": 58,
      "outputs": [
        {
          "output_type": "stream",
          "name": "stdout",
          "text": [
            "7 21 -14\n",
            "-14\n",
            "7\n",
            "21\n",
            "\n",
            "7\n",
            "21\n",
            "-14\n"
          ]
        }
      ]
    },
    {
      "cell_type": "markdown",
      "source": [
        "1043"
      ],
      "metadata": {
        "id": "GCgaqTKf5NKI"
      }
    },
    {
      "cell_type": "code",
      "source": [
        "a,b,c=input().split(\" \")\n",
        "a=float(a)\n",
        "b=float(b)\n",
        "c=float(c)\n",
        "\n",
        "if (a+b)>c and (a+c)>b and (b+c)>a:\n",
        "    perimeter=(a+b+c)\n",
        "    print(f'Perimetro = {perimeter:.1f}')\n",
        "else:\n",
        "    area=((a+b)/2)*c\n",
        "    print(f'Area = {area:.1f}')"
      ],
      "metadata": {
        "id": "PmXhVRvj5NWo"
      },
      "execution_count": null,
      "outputs": []
    },
    {
      "cell_type": "markdown",
      "source": [
        "1044  "
      ],
      "metadata": {
        "id": "awPQoeSTy47B"
      }
    },
    {
      "cell_type": "code",
      "source": [
        "a,b=input().split(\" \")\n",
        "a=int(a)\n",
        "b=int(b)\n",
        "if a%b==0 or b%a==0:\n",
        "    print(\"Sao Multiplos\")\n",
        "else:\n",
        "    print(\"Nao sao Multiplos\")"
      ],
      "metadata": {
        "id": "DZvX38xJsyOy"
      },
      "execution_count": null,
      "outputs": []
    },
    {
      "cell_type": "markdown",
      "source": [
        "1046"
      ],
      "metadata": {
        "id": "FPngV0Pmsy_g"
      }
    },
    {
      "cell_type": "code",
      "source": [
        "x,y=input().split(\" \")\n",
        "x=int(x)\n",
        "y=int(y)\n",
        "\n",
        "if x<y:\n",
        "    duration=(y-x)\n",
        "elif x>y:\n",
        "    duration=(24-x)+y\n",
        "elif x==y:\n",
        "    duration=24\n",
        "print(f'O JOGO DUROU {duration} HORA(S)')"
      ],
      "metadata": {
        "colab": {
          "base_uri": "https://localhost:8080/"
        },
        "id": "i_DRg9IhszJh",
        "outputId": "eee4b684-450e-40fa-97e1-968dc0fdc998"
      },
      "execution_count": 62,
      "outputs": [
        {
          "output_type": "stream",
          "name": "stdout",
          "text": [
            "0 0\n",
            "O JOGO DUROU 24 HORA(S)\n"
          ]
        }
      ]
    },
    {
      "cell_type": "markdown",
      "source": [
        "1047"
      ],
      "metadata": {
        "id": "jayWYs36szQN"
      }
    },
    {
      "cell_type": "code",
      "source": [
        "a,b,c,d=input().split(\" \")\n",
        "a=int(a)\n",
        "b=int(b)\n",
        "c=int(c)\n",
        "d=int(d)\n",
        "\n",
        "if a<c and b<d:\n",
        "    hour=(c-a)\n",
        "    minute=(d-b)\n",
        "    print(f'O JOGO DUROU {hour} HORA(S) E {minute} MINUTO(S)')\n",
        "elif a<c and b>d:\n",
        "    hour=(c-a)-1\n",
        "    minute=(60-b)+d\n",
        "    print(f'O JOGO DUROU {hour} HORA(S) E {minute} MINUTO(S)')\n",
        "elif a>c and b<d:\n",
        "    hour=(24-a)+c\n",
        "    minute=(d-b)\n",
        "    print(f'O JOGO DUROU {hour} HORA(S) E {minute} MINUTO(S)')\n",
        "elif a>c and b>d:\n",
        "    hour=((24-a)+c)\n",
        "    minute=(60-b)+d\n",
        "    print(f'O JOGO DUROU {hour} HORA(S) E {minute} MINUTO(S)')\n",
        "elif a==c and b==d:\n",
        "    hour=24\n",
        "    minute=0\n",
        "    print(f'O JOGO DUROU {hour} HORA(S) E {minute} MINUTO(S)')\n",
        "elif a==c:\n",
        "    hour="
      ],
      "metadata": {
        "colab": {
          "base_uri": "https://localhost:8080/"
        },
        "id": "pcTcC6RkszXU",
        "outputId": "5a27f8a7-7307-4805-b2ca-aa4340f8e855"
      },
      "execution_count": 70,
      "outputs": [
        {
          "name": "stdout",
          "output_type": "stream",
          "text": [
            "2 20 2 30\n"
          ]
        }
      ]
    },
    {
      "cell_type": "markdown",
      "source": [
        "1048"
      ],
      "metadata": {
        "id": "9Pp5ojPbsze8"
      }
    },
    {
      "cell_type": "code",
      "source": [
        "salary=float(input())\n",
        "\n",
        "if 0<=salary<=400.00:\n",
        "    new_salary=salary+((salary*15)/100)\n",
        "    money_earned=(salary*15)/100\n",
        "    print(f'Novo salario: {new_salary:.2f}')\n",
        "    print(f'Reajuste ganho: {money_earned:.2f}')\n",
        "    print('Em percentual: 15 %')\n",
        "elif 400.01<=salary<=800.00:\n",
        "    new_salary=salary+((salary*12)/100)\n",
        "    money_earned=(salary*12)/100\n",
        "    print(f'Novo salario: {new_salary:.2f}')\n",
        "    print(f'Reajuste ganho: {money_earned:.2f}')\n",
        "    print('Em percentual: 12 %')\n",
        "elif 800.01<=salary<=1200.00:\n",
        "    new_salary=salary+((salary*10)/100)\n",
        "    money_earned=(salary*10)/100\n",
        "    print(f'Novo salario: {new_salary:.2f}')\n",
        "    print(f'Reajuste ganho: {money_earned:.2f}')\n",
        "    print('Em percentual: 10 %')\n",
        "elif 1200.01<=salary<=2000.00:    \n",
        "    new_salary=salary+((salary*7)/100)\n",
        "    money_earned=(salary*7)/100\n",
        "    print(f'Novo salario: {new_salary:.2f}')\n",
        "    print(f'Reajuste ganho: {money_earned:.2f}')\n",
        "    print('Em percentual: 7 %')\n",
        "else:\n",
        "    new_salary=salary+((salary*4)/100)\n",
        "    money_earned=(salary*4)/100\n",
        "    print(f'Novo salario: {new_salary:.2f}')\n",
        "    print(f'Reajuste ganho: {money_earned:.2f}')\n",
        "    print('Em percentual: 4 %')"
      ],
      "metadata": {
        "colab": {
          "base_uri": "https://localhost:8080/"
        },
        "id": "_Wr4vcFDszl0",
        "outputId": "914ff415-c672-4187-a3bf-f11422911d3a"
      },
      "execution_count": 72,
      "outputs": [
        {
          "output_type": "stream",
          "name": "stdout",
          "text": [
            "400.00\n",
            "Novo salario: 460.00\n",
            "Reajuste ganho: 60.00\n",
            "Em percentual: 15 %\n"
          ]
        }
      ]
    },
    {
      "cell_type": "markdown",
      "source": [
        "1049"
      ],
      "metadata": {
        "id": "2c-CJl-Zsztg"
      }
    },
    {
      "cell_type": "code",
      "source": [
        "a=input().lower()\n",
        "b=input().lower()\n",
        "c=input().lower()\n",
        "if a==\"vertebrado\":\n",
        "    if b==\"ave\":\n",
        "        if c==\"carnivoro\":\n",
        "            print('aguia')\n",
        "        elif c==\"onivoro\":\n",
        "            print('pomba')\n",
        "    elif b==\"mamifero\":\n",
        "        if c==\"onivoro\":\n",
        "            print('homem')\n",
        "        elif c==\"herbivoro\":\n",
        "            print('vaca')\n",
        "elif a==\"invertebrado\":\n",
        "    if b==\"inseto\":\n",
        "        if c==\"hematofago\":\n",
        "            print('pulga')\n",
        "        elif c==\"herbivoro\":\n",
        "            print('lagarta')\n",
        "    elif b==\"anelideo\":\n",
        "        if c==\"hematofago\":\n",
        "            print('sanguessuga')\n",
        "        elif c==\"onivoro\":\n",
        "            print('minhoca')"
      ],
      "metadata": {
        "id": "bVF1iE4Tsz0Q"
      },
      "execution_count": null,
      "outputs": []
    },
    {
      "cell_type": "markdown",
      "source": [
        "1050"
      ],
      "metadata": {
        "id": "73Tb4kyUIyDs"
      }
    },
    {
      "cell_type": "code",
      "source": [
        "ddd=int(input())\n",
        "\n",
        "if ddd==61:\n",
        "    print(\"Brasilia\")\n",
        "elif ddd==71:\n",
        "    print(\"Salvador\")\n",
        "elif ddd==11:\n",
        "    print(\"Sao Paulo\")\n",
        "elif ddd==21:\n",
        "    print(\"Rio de Janeiro\")\n",
        "elif ddd==32:\n",
        "    print(\"Juiz de Fora\")\n",
        "elif ddd==19:\n",
        "    print(\"Campinas\")\n",
        "elif ddd==27:\n",
        "    print(\"Vitoria\")\n",
        "elif ddd==31:\n",
        "    print(\"Belo Horizonte\")\n",
        "else:\n",
        "    print(\"DDD nao cadastrado\")"
      ],
      "metadata": {
        "colab": {
          "base_uri": "https://localhost:8080/"
        },
        "id": "Xsj4Ow9HIyQ0",
        "outputId": "0cb9e014-af70-4311-abac-99de9b4a49d2"
      },
      "execution_count": 75,
      "outputs": [
        {
          "output_type": "stream",
          "name": "stdout",
          "text": [
            "31\n",
            "Belo Horizonte\n"
          ]
        }
      ]
    }
  ]
}